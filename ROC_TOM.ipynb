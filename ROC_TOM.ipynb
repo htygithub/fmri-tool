{
 "cells": [
  {
   "cell_type": "code",
   "execution_count": 1,
   "metadata": {
    "collapsed": false
   },
   "outputs": [
    {
     "name": "stdout",
     "output_type": "stream",
     "text": [
      "RSN0\n",
      "The mask is invalid as it is empty: it masks all data.\n",
      "thr:0.95, t1:0.000 , t2:0.640 \n",
      "RSN1\n",
      "The mask is invalid as it is empty: it masks all data.\n",
      "hihi2\n",
      "thr:0.95, t1:0.000 , t2:0.650 \n",
      "RSN2\n",
      "hihi2\n",
      "thr:0.95, t1:0.615 , t2:0.654 \n",
      "RSN3\n",
      "hihi2\n",
      "thr:0.95, t1:0.643 , t2:0.683 \n",
      "RSN4\n",
      "hihi2\n",
      "thr:0.95, t1:0.630 , t2:0.627 \n",
      "RSN5\n",
      "hihi2\n",
      "thr:0.95, t1:0.655 , t2:0.675 \n",
      "RSN6\n",
      "hihi2\n",
      "thr:0.95, t1:0.664 , t2:0.678 \n",
      "RSN7\n",
      "hihi2\n",
      "thr:0.95, t1:0.711 , t2:0.628 \n",
      "RSN8\n",
      "hihi2\n",
      "thr:0.95, t1:0.697 , t2:0.682 \n",
      "RSN9\n",
      "hihi2\n",
      "thr:0.95, t1:0.636 , t2:0.666 \n"
     ]
    }
   ],
   "source": [
    "%matplotlib inline\n",
    "import nibabel as nib\n",
    "import matplotlib.pyplot as plt\n",
    "import numpy as np\n",
    "import pandas as pd\n",
    "from sklearn import metrics\n",
    "from os.path import join\n",
    "from nilearn.masking import apply_mask\n",
    "from nilearn.image import threshold_img,math_img,mean_img\n",
    "\n",
    "#matfile = loadmat('abide_mars2_0050002_3726')\n",
    "v1 = pd.read_csv(r'C:\\expdata\\ABIDE_2017_drz5000\\Phenotypic_V1_0b_preprocessed1.csv')\n",
    "\n",
    "y = v1.DX_GROUP.as_matrix()*-1+2\n",
    "\n",
    "face_dir = r'C:\\expdata\\ABIDE_2017_drz5000\\mergedata_S0323_230217_rsn10_drzstat'\n",
    "abide_mask_dir = r'C:\\expdata\\ABIDE_2017_drz5000\\ABIDE_drz5000_mask'\n",
    "\n",
    "\n",
    "def getauc(X,y):\n",
    "    fpr, tpr, thresholds = metrics.roc_curve(y, X)\n",
    "    auc = metrics.auc(fpr, tpr) \n",
    "    return auc\n",
    "\n",
    "thr = 0.95\n",
    "for ii in range(10):\n",
    "    print('RSN%d' % ii)\n",
    "\n",
    "    #test = pd.read_csv('af3t1.csv')\n",
    "    #data = test.as_matrix()\n",
    "    #X = data[:, 1]\n",
    "    #y = data[:,0] #取出TOF那一行\n",
    "    facedata_ff = join(face_dir,'rsn%d' % ii,'allRmaps.nii.gz')\n",
    "    abide_maskt1_ff =join(abide_mask_dir,'rsn%d' % ii,'twosample_tfce_corrp_tstat1.nii.gz')\n",
    "    abide_maskt2_ff =join(abide_mask_dir,'rsn%d' % ii,'twosample_tfce_corrp_tstat2.nii.gz')\n",
    "\n",
    "\n",
    "    try:\n",
    "        maskmeant1 = np.mean(apply_mask(facedata_ff, math_img('img1>=%f' % thr,img1=abide_maskt1_ff)),1)\n",
    "        #maskmeant1 = np.mean(apply_mask(facedata_ff, r'C:\\expdata\\ABIDE_2017_drz5000\\a7t1mask_95.nii.gz'),1)\n",
    "        auct1 = getauc(maskmeant1*-1,y)\n",
    "        #maskmeant1 = np.mean(apply_mask(facedata_ff, math_img('img1>=%f' % thr,img1=abide_maskt1_ff)),1)\n",
    "        #maskmeant1 = np.mean(apply_mask(facedata_ff, r'C:\\expdata\\ABIDE_2017_drz5000\\a7t1mask_95.nii.gz'),1)\n",
    "        auctx = getauc(maskmeant1*-1,y)\n",
    "    except BaseException as e:\n",
    "        print(e)\n",
    "\n",
    "        maskmeant1 = y*0        \n",
    "        auct1 = 0\n",
    "    try:\n",
    "        maskmeant2 = np.mean(apply_mask(facedata_ff, math_img('img1>=%f' % thr,img1=abide_maskt2_ff)),1)\n",
    "        auct2 = getauc(maskmeant2,y)\n",
    "    except:\n",
    "        auct2 = 0\n",
    "        maskmeant2 = y*0 \n",
    "\n",
    "    if ii == 0:\n",
    "        t1all = maskmeant1\n",
    "        t2all = maskmeant2\n",
    "    else:\n",
    "        print(\"hihi2\")\n",
    "        t1all = np.vstack((t1all,maskmeant1))\n",
    "        t2all = np.vstack((t2all,maskmeant2))\n",
    "\n",
    "    print('thr:%.2f, t1:%.3f , t2:%.3f ' % (thr,auct1,auct2))\n",
    "\n",
    "\n",
    "np.savetxt('tsall.csv',np.hstack((t1all.T,t2all.T)),fmt='%.5f', delimiter=',')\n",
    "\n"
   ]
  },
  {
   "cell_type": "code",
   "execution_count": 16,
   "metadata": {
    "collapsed": false
   },
   "outputs": [],
   "source": [
    "import pandas as pd\n",
    "import glob\n",
    "import numpy as np\n",
    "import shutil\n",
    "#matfile = loadmat('abide_mars2_0050002_3726')\n",
    "v1 = pd.read_csv(r'C:\\expdata\\ABIDE_2017_drz5000\\Phenotypic_V1_0b_preprocessed1.csv')\n",
    "\n",
    "y = v1.DX_GROUP.as_matrix()"
   ]
  },
  {
   "cell_type": "code",
   "execution_count": null,
   "metadata": {
    "collapsed": false
   },
   "outputs": [],
   "source": [
    "import os\n",
    "print(os.path.isfile(abide_maskt1_ff))"
   ]
  },
  {
   "cell_type": "code",
   "execution_count": null,
   "metadata": {
    "collapsed": false
   },
   "outputs": [],
   "source": [
    "from nilearn import plotting,image\n",
    "plotting.plot_stat_map(math_img('img1>=%f' % thr,img1=abide_maskt1_ff))"
   ]
  },
  {
   "cell_type": "code",
   "execution_count": null,
   "metadata": {
    "collapsed": false
   },
   "outputs": [],
   "source": [
    "plotting.plot_stat_map(image.index_img(facedata_ff, 4))"
   ]
  },
  {
   "cell_type": "code",
   "execution_count": null,
   "metadata": {
    "collapsed": true
   },
   "outputs": [],
   "source": [
    "x = apply_mask(facedata_ff, math_img('img1>=%f' % thr,img1=abide_maskt2_ff))"
   ]
  },
  {
   "cell_type": "code",
   "execution_count": null,
   "metadata": {
    "collapsed": false
   },
   "outputs": [],
   "source": [
    "x"
   ]
  },
  {
   "cell_type": "code",
   "execution_count": null,
   "metadata": {
    "collapsed": false
   },
   "outputs": [],
   "source": [
    "np.mean(x,1)"
   ]
  },
  {
   "cell_type": "code",
   "execution_count": null,
   "metadata": {
    "collapsed": true
   },
   "outputs": [],
   "source": [
    "from notebook.auth import passwd"
   ]
  },
  {
   "cell_type": "code",
   "execution_count": null,
   "metadata": {
    "collapsed": false
   },
   "outputs": [],
   "source": [
    "passwd()"
   ]
  },
  {
   "cell_type": "code",
   "execution_count": null,
   "metadata": {
    "collapsed": false
   },
   "outputs": [],
   "source": [
    "jupyter notebook --generate-config"
   ]
  },
  {
   "cell_type": "code",
   "execution_count": null,
   "metadata": {
    "collapsed": true
   },
   "outputs": [],
   "source": [
    "import matplotlib.pyplot as plt\n",
    "from os.path import join\n",
    "import numpy as np\n",
    "from nilearn import plotting, input_data, image\n",
    "import nibabel as nib\n",
    "def get_connindex(rsn10_ff,maskrns10_ff, zthr=4):\n",
    "    img_data= nib.load(rsn10_ff).get_data()\n",
    "    maskrsn10 = nib.load(maskrns10_ff).get_data()\n",
    "    connindex= np.zeros(10)\n",
    "    temp = ((maskrsn10 > zthr) * img_data).reshape((-1,10))\n",
    "    for ii in range(10):\n",
    "        temp1= temp[:,ii]\n",
    "        connindex[ii] =np.nanmean(temp1[np.nonzero(temp1)])\n",
    "    print('Connindex:'+' '.join(['%.5f' % ii for ii in connindex.tolist()]))\n",
    "    return connindex"
   ]
  }
 ],
 "metadata": {
  "anaconda-cloud": {},
  "kernelspec": {
   "display_name": "Python [Root]",
   "language": "python",
   "name": "Python [Root]"
  },
  "language_info": {
   "codemirror_mode": {
    "name": "ipython",
    "version": 3
   },
   "file_extension": ".py",
   "mimetype": "text/x-python",
   "name": "python",
   "nbconvert_exporter": "python",
   "pygments_lexer": "ipython3",
   "version": "3.5.2"
  }
 },
 "nbformat": 4,
 "nbformat_minor": 0
}
