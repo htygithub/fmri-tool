{
 "cells": [
  {
   "cell_type": "code",
   "execution_count": 13,
   "metadata": {
    "collapsed": false
   },
   "outputs": [],
   "source": [
    "%matplotlib inline\n",
    "import nibabel as nib\n",
    "import matplotlib.pyplot as plt\n",
    "import numpy as np\n",
    "import pandas as pd\n",
    "from sklearn import metrics\n",
    "from os.path import join\n",
    "from nilearn.masking import apply_mask\n",
    "from nilearn.image import threshold_img,math_img,mean_img\n",
    "from nilearn import plotting, input_data, image\n",
    "from scipy.stats import ttest_ind\n",
    "\n",
    "rsn10 = r'C:\\github\\a_htywork\\20170315_autumnROC\\PNAS_Smith09_rsn10.nii.gz'\n",
    "face_dir = r'C:\\expdata\\ABIDE_2017_drz5000\\FACE_drzstat_N1000'\n",
    "abide_mask_dir = r'C:\\expdata\\ABIDE_2017_drz5000\\ABIDE12_drz5000_mask'\n",
    "result_dir = r'C:\\temp'\n",
    "\n",
    "\n",
    "\n",
    "def getAuc_P(drz_ff,mask,target):\n",
    "    try:\n",
    "        roivalue = np.mean(apply_mask(drz_ff, mask),1)\n",
    "        fpr, tpr, thresholds = metrics.roc_curve(target, roivalue)\n",
    "        auc = metrics.auc(fpr, tpr)\n",
    "        if auc < 0.5:\n",
    "            fpr, tpr, thresholds = metrics.roc_curve(target, -roivalue)\n",
    "            auc = metrics.auc(fpr, tpr)\n",
    "            \n",
    "        t, p = ttest_ind(roivalue[(target==0).nonzero()[0]],\n",
    "                             roivalue[(target==1).nonzero()[0]],\n",
    "                             equal_var=True)\n",
    "\n",
    "    except BaseException as e:\n",
    "        roivalue = target*0        \n",
    "        auc = 0\n",
    "        t = 0\n",
    "        p = 1\n",
    "        \n",
    "    return roivalue.reshape(-1,1), auc, t, p\n"
   ]
  },
  {
   "cell_type": "code",
   "execution_count": 18,
   "metadata": {
    "collapsed": false,
    "scrolled": false
   },
   "outputs": [
    {
     "name": "stdout",
     "output_type": "stream",
     "text": [
      "RSN01_PVN AUC: 0.533(0.875)\t t1:0.500(0.931)\t t2:0.593(0.188) \n"
     ]
    },
    {
     "name": "stderr",
     "output_type": "stream",
     "text": [
      "C:\\Anaconda3\\lib\\site-packages\\numpy\\ma\\core.py:4185: UserWarning: Warning: converting a masked element to nan.\n",
      "  warnings.warn(\"Warning: converting a masked element to nan.\")\n"
     ]
    },
    {
     "name": "stdout",
     "output_type": "stream",
     "text": [
      "RSN02_OPN AUC: 0.583(0.637)\t t1:0.000(1.000)\t t2:0.567(0.220) \n",
      "RSN03_LVN AUC: 0.593(0.176)\t t1:0.607(0.155)\t t2:0.617(0.204) \n",
      "RSN04_DMN AUC: 0.609(0.407)\t t1:0.757(0.010*)\t t2:0.639(0.069) \n",
      "RSN05_CEB AUC: 0.567(0.091)\t t1:0.000(1.000)\t t2:0.628(0.036*) \n",
      "RSN06_MOT AUC: 0.565(0.313)\t t1:0.604(0.155)\t t2:0.567(0.229) \n",
      "RSN07_AUD AUC: 0.628(0.124)\t t1:0.641(0.231)\t t2:0.570(0.304) \n",
      "RSN08_ECN AUC: 0.630(0.131)\t t1:0.617(0.135)\t t2:0.663(0.037*) \n",
      "RSN09_RFP AUC: 0.622(0.041*)\t t1:0.546(0.685)\t t2:0.663(0.068) \n",
      "RSN10_LFP AUC: 0.637(0.160)\t t1:0.667(0.134)\t t2:0.674(0.094) \n"
     ]
    }
   ],
   "source": [
    "face_target = np.ones((43,1))\n",
    "face_target[:23] = 0\n",
    "zthr = 4\n",
    "zstr = str(zthr).replace('.','p')\n",
    "RSNstr = ['PVN','OPN','LVN','DMN','CEB','MOT','AUD','ECN','RFP','LFP']\n",
    "\n",
    "'''\n",
    "with open(join(abide_mask_dir,'subjdx.txt'), 'r') as f:\n",
    "    abide_target = [int(line.strip()) for line in f]\n",
    "'''\n",
    "for ii in range(10):\n",
    "    y = face_target\n",
    "    facedata_ff = join(face_dir,'rsn%d' % ii,'allRmaps.nii.gz')\n",
    "    abide_ff = join(abide_mask_dir,'rsn%d' % ii,'allRmaps.nii.gz')\n",
    "    \n",
    "    # get RSN mask with Z threshold\n",
    "    rsnmask =  math_img('img1>=%f' % zthr,img1=image.index_img(rsn10, ii))\n",
    "    \n",
    "        \n",
    "    abide_maskt1_ff =join(abide_mask_dir,'rsn%d' % ii,'twosample_tfce_corrp_tstat1.nii.gz')\n",
    "    abide_maskt2_ff =join(abide_mask_dir,'rsn%d' % ii,'twosample_tfce_corrp_tstat2.nii.gz')\n",
    "\n",
    "    abide_maskt1_ff = math_img('img1>=%f' % 0.95,img1=abide_maskt1_ff)\n",
    "    abide_maskt2_ff = math_img('img1>=%f' % 0.95,img1=abide_maskt2_ff)\n",
    "    \n",
    "    abide_maskt1_ff = math_img('img1*img2',img1=rsnmask, img2=abide_maskt1_ff)  \n",
    "    abide_maskt2_ff = math_img('img1*img2',img1=rsnmask, img2=abide_maskt2_ff)\n",
    "    math_img('img1*1.0',img1=abide_maskt1_ff).to_filename(join(result_dir,'A%02dmask.nii.gz' % (ii+1)))\n",
    "    math_img('img1*1.0',img1=abide_maskt2_ff).to_filename(join(result_dir,'A%02dmask.nii.gz' % (ii+11)))\n",
    "\n",
    "    \n",
    "    roivalueR, aucR, tR, pR = getAuc_P(facedata_ff,rsnmask,face_target)\n",
    "    roivalueA1, aucA1, tA1, pA1 = getAuc_P(facedata_ff,abide_maskt1_ff,face_target)\n",
    "    roivalueA2, aucA2, tA2, pA2 = getAuc_P(facedata_ff,abide_maskt2_ff,face_target)\n",
    "    \n",
    "    plotting.plot_roi(abide_maskt1_ff,title='RSN%d:t1,%d,%.3f' % (ii+1,zthr,pA1),\n",
    "                      output_file = join(result_dir,'RSN%d_t1_%s.jpg' % (ii+1,zstr)))\n",
    "    plotting.plot_roi(abide_maskt2_ff,title='RSN%d:t2,%d,%.3f' % (ii+1,zthr,pA2),\n",
    "                      output_file = join(result_dir,'RSN%d_t2_%s.jpg' % (ii+1,zstr)))\n",
    "\n",
    "\n",
    "\n",
    "    if ii == 0:\n",
    "        Rmatrix = roivalueR\n",
    "        A1matrix = roivalueA1\n",
    "        A2matrix = roivalueA2\n",
    "    else:\n",
    "        Rmatrix = np.hstack((Rmatrix,roivalueR))\n",
    "        A1matrix = np.hstack((A1matrix,roivalueA1))\n",
    "        A2matrix = np.hstack((A2matrix,roivalueA2))\n",
    "    \n",
    "\n",
    "    #maskt1pxs = abide_maskt1_ff.get_data().sum()\n",
    "    #maskt2pxs = abide_maskt2_ff.get_data().sum()\n",
    "    def gpstr(p):\n",
    "        pstr = '%.3f' % p\n",
    "        if p < 0.05:pstr += '*'\n",
    "        if p < 0.01:pstr += '*'\n",
    "        return pstr\n",
    "    print('RSN%02d_%s AUC: %.3f(%s)\\t t1:%.3f(%s)\\t t2:%.3f(%s) ' % (ii+1,RSNstr[ii],aucR,gpstr(pR),aucA1,gpstr(pA1),aucA2,gpstr(pA2)))\n",
    "\n",
    "\n",
    "np.savetxt(join(result_dir,'tsall_%s.csv' % zstr),np.hstack((face_target,Rmatrix,A1matrix,A2matrix)),fmt='%.5f', delimiter=',')"
   ]
  },
  {
   "cell_type": "code",
   "execution_count": 17,
   "metadata": {
    "collapsed": false
   },
   "outputs": [
    {
     "data": {
      "text/plain": [
       "'A11mask.nii.gz'"
      ]
     },
     "execution_count": 17,
     "metadata": {},
     "output_type": "execute_result"
    }
   ],
   "source": [
    "'A%02dmask.nii.gz' % (ii+11)"
   ]
  },
  {
   "cell_type": "code",
   "execution_count": null,
   "metadata": {
    "collapsed": true
   },
   "outputs": [],
   "source": []
  }
 ],
 "metadata": {
  "anaconda-cloud": {},
  "kernelspec": {
   "display_name": "Python [Root]",
   "language": "python",
   "name": "Python [Root]"
  },
  "language_info": {
   "codemirror_mode": {
    "name": "ipython",
    "version": 3
   },
   "file_extension": ".py",
   "mimetype": "text/x-python",
   "name": "python",
   "nbconvert_exporter": "python",
   "pygments_lexer": "ipython3",
   "version": "3.5.2"
  }
 },
 "nbformat": 4,
 "nbformat_minor": 0
}
