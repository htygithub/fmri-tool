{
 "cells": [
  {
   "cell_type": "code",
   "execution_count": 44,
   "metadata": {
    "collapsed": false
   },
   "outputs": [],
   "source": [
    "import matplotlib.pyplot as plt\n",
    "from os.path import join,isdir\n",
    "import numpy as np\n",
    "from nilearn import plotting, input_data, image\n",
    "import nibabel as nib\n",
    "\n",
    "def concat_images(imga, imgb):\n",
    "    \"\"\"\n",
    "    Combines two color image ndarrays side-by-side.\n",
    "    \"\"\"\n",
    "    ha,wa = imga.shape[:2]\n",
    "    hb,wb = imgb.shape[:2]\n",
    "    max_height = np.max([ha, hb])\n",
    "    total_width = wa+wb\n",
    "    new_img = np.zeros(shape=(max_height, total_width, 3), dtype=np.uint8)\n",
    "    new_img[:ha,:wa]=imga\n",
    "    new_img[:hb,wa:wa+wb]=imgb\n",
    "    return new_img\n",
    "\n",
    "def concat_n_images(image_path_list):\n",
    "    \"\"\"\n",
    "    Combines N color images from a list of image paths.\n",
    "    \"\"\"\n",
    "    output = None\n",
    "    for i, img_path in enumerate(image_path_list):\n",
    "        img = plt.imread(img_path)[:,:,:3]\n",
    "        if i==0:\n",
    "            output = img\n",
    "        else:\n",
    "            output = concat_images(output, img)\n",
    "    return output\n",
    "\n",
    "\n",
    "def plotrsn10(nii_ff,workdir,resultjpg_ff, threshold, stat_or_mask):\n",
    "    '''\n",
    "    plotrsn10('PNAS_Smith09_rsn10.nii.gz',r'c:\\temp',r'c:\\temp\\test.jpg')\n",
    "    '''\n",
    "    z=[8,-4,-10,30,-34,50,14,22,46,48]\n",
    "    ii = 0\n",
    "    images=[]\n",
    "    fig=plt.figure(figsize=(4,6),dpi=300)\n",
    "    ndim = nib.load(nii_ff).get_data().ndim\n",
    "\n",
    "    for ii in range(10):\n",
    "        if ndim == 3:\n",
    "            img = nii_ff.replace('rsn0','rsn%d' % ii)\n",
    "        else:\n",
    "            img = image.index_img(nii_ff, ii)\n",
    "            # img is now an in-memory 3D img\n",
    "        tempimage= join(workdir,'RSN%02d.jpg' % (ii+1))\n",
    "        \n",
    "        if stat_or_mask == 0:\n",
    "            display = plotting.plot_stat_map(img, figure=fig, threshold=threshold, display_mode=\"z\", \n",
    "                                             cut_coords=[(z[ii])],colorbar=False, annotate=False, black_bg=True)\n",
    "        else:\n",
    "            display = plotting.plot_roi(img, figure=fig, display_mode=\"z\", cut_coords=[(z[ii])],\n",
    "                       colorbar=False, annotate=False, black_bg=True)\n",
    "        #display.annotate(size=30)\n",
    "        display.savefig(tempimage)\n",
    "        images.append(tempimage)\n",
    "        plt.clf()\n",
    "        ii += 1\n",
    "    plt.close()\n",
    "    #row1 = concat_n_images(images[0:5])\n",
    "    #row2 = concat_n_images(images[5:10])\n",
    "\n",
    "    #output = np.vstack((row1,255*np.ones((10,row1.shape[1],3),dtype=np.uint8),row2))\n",
    "    output = concat_n_images(images)\n",
    "    fig=plt.figure(figsize=(output.shape[0]//30,output.shape[1]//30),dpi=100)\n",
    "    plt.axis('off')\n",
    "    plt.imshow(output)\n",
    "    fig.savefig(resultjpg_ff, bbox_inches='tight')"
   ]
  },
  {
   "cell_type": "code",
   "execution_count": 20,
   "metadata": {
    "collapsed": false
   },
   "outputs": [],
   "source": [
    "plotrsn10(r'c:\\temp\\rsn10_drzstat.nii.gz',r'c:\\temp',r'c:\\temp\\test.jpg',4)"
   ]
  },
  {
   "cell_type": "code",
   "execution_count": 45,
   "metadata": {
    "collapsed": false
   },
   "outputs": [
    {
     "name": "stderr",
     "output_type": "stream",
     "text": [
      "C:\\Anaconda3\\lib\\site-packages\\matplotlib\\pyplot.py:516: RuntimeWarning: More than 20 figures have been opened. Figures created through the pyplot interface (`matplotlib.pyplot.figure`) are retained until explicitly closed and may consume too much memory. (To control this warning, see the rcParam `figure.max_open_warning`).\n",
      "  max_open_warning, RuntimeWarning)\n",
      "C:\\Anaconda3\\lib\\site-packages\\numpy\\ma\\core.py:4185: UserWarning: Warning: converting a masked element to nan.\n",
      "  warnings.warn(\"Warning: converting a masked element to nan.\")\n"
     ]
    }
   ],
   "source": [
    "plotrsn10(r'D:\\ABIDE_2017\\S0217_114505_rsn10_drzstat_N100_tfce\\rsn0\\twosample_tfce_corrp_tstat1.nii.gz',r'c:\\temp',r'c:\\temp\\test.jpg',0.9)"
   ]
  },
  {
   "cell_type": "code",
   "execution_count": null,
   "metadata": {
    "collapsed": true
   },
   "outputs": [],
   "source": []
  }
 ],
 "metadata": {
  "anaconda-cloud": {},
  "kernelspec": {
   "display_name": "Python [Root]",
   "language": "python",
   "name": "Python [Root]"
  },
  "language_info": {
   "codemirror_mode": {
    "name": "ipython",
    "version": 3
   },
   "file_extension": ".py",
   "mimetype": "text/x-python",
   "name": "python",
   "nbconvert_exporter": "python",
   "pygments_lexer": "ipython3",
   "version": "3.5.2"
  }
 },
 "nbformat": 4,
 "nbformat_minor": 0
}
